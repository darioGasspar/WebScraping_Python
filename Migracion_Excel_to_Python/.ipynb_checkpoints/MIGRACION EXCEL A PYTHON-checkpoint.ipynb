{
 "cells": [
  {
   "cell_type": "markdown",
   "id": "b73c037f",
   "metadata": {},
   "source": [
    "<center> <h1>Universidad Nacional de San Agustín de Arequipa</h1> </center> \n",
    "<center> <h1>Escuela Profesional de Ingeniería de Telecomunicaciones</h1> </center> \n",
    "\n",
    "<center> <h1> </h1> </center> \n",
    "\n",
    "<center><img src=\"https://user-images.githubusercontent.com/19308295/115939517-f1c6fe80-a463-11eb-989c-812ab4942586.png\" width=\"380\" height=\"4200\"></center>"
   ]
  },
  {
   "cell_type": "markdown",
   "id": "e7317a4a",
   "metadata": {},
   "source": [
    "<center> <h1>Curso : Computación 2</h1> </center> "
   ]
  },
  {
   "cell_type": "markdown",
   "id": "edc6d3ea",
   "metadata": {},
   "source": [
    "<center> <h1> GRUPO: 1 </h1> </center> "
   ]
  },
  {
   "cell_type": "markdown",
   "id": "ad0c4177",
   "metadata": {},
   "source": [
    "<center> <h2>INTEGRANTES:</h2> </center> \n",
    "\n",
    "<center> <h2>Apaza Valdivia, Leonel Saul</h2> </center> \n",
    "\n",
    "<center> <h2>Banda Gutierrez, Diego Marcelo</h2> </center> \n",
    "\n",
    "<center> <h2>Flores Mallma, Elmer Matias</h2> </center> \n",
    "\n",
    "<center> <h2>Gaspar Condorchoa, Ruben Dario</h2> </center> \n",
    "\n",
    "<center> <h2>Ramos Rodrigo, Franklin Harold</h2> </center> \n",
    "\n",
    "<center> <h2>Tello Alegria, Ronald Augusto</h2> </center> \n",
    "\n",
    "<center> <h2>Valero Arizabal, Kusi Lucero</h2> </center> "
   ]
  },
  {
   "cell_type": "markdown",
   "id": "d3791ba3",
   "metadata": {},
   "source": [
    "![linea 1](https://user-images.githubusercontent.com/19308295/115926252-2b8a0c00-a448-11eb-9d9c-b43beaf0ff68.png)"
   ]
  },
  {
   "cell_type": "markdown",
   "id": "32c29860",
   "metadata": {},
   "source": [
    "<center> <h1>MIGRACION DE EXCEL A PYTHON</h1> </center> "
   ]
  },
  {
   "cell_type": "markdown",
   "id": "def7efb1",
   "metadata": {},
   "source": [
    "![linea 1](https://user-images.githubusercontent.com/19308295/115926252-2b8a0c00-a448-11eb-9d9c-b43beaf0ff68.png)"
   ]
  },
  {
   "cell_type": "markdown",
   "id": "d1e68230",
   "metadata": {},
   "source": [
    "<center> <h1>EJEMPLO 1</h1> </center> "
   ]
  },
  {
   "cell_type": "markdown",
   "id": "c0fc228a",
   "metadata": {},
   "source": [
    "A partir de un archivo excel, para hallar la suma, el promedio y la multiplicacion de todos los valores de una columna se hace lo siguiente:\n",
    "\n",
    "1. Para calcular la suma de la columna A, en una celda específica, se escribe la fórmula =SUMA(A:A).\n",
    "\n",
    "2. Para calcular el promedio de la columna A, en una celda específica, se escribe la fórmula =PROMEDIO(A:A).\n",
    "\n",
    "3. Para calcular la multiplicación de la columna A, en una celda específica, se escribe la fórmula =PRODUCTO(A:A).\n",
    " \n",
    "#### Ahora veremos como podemos hacer esto en python:"
   ]
  },
  {
   "cell_type": "code",
   "execution_count": 2,
   "id": "3affd5ff",
   "metadata": {},
   "outputs": [],
   "source": [
    "import pandas as pd\n",
    "import numpy as np\n",
    "import matplotlib.pyplot as plt"
   ]
  },
  {
   "cell_type": "code",
   "execution_count": 3,
   "id": "bb2e6c57",
   "metadata": {},
   "outputs": [
    {
     "data": {
      "text/html": [
       "<div>\n",
       "<style scoped>\n",
       "    .dataframe tbody tr th:only-of-type {\n",
       "        vertical-align: middle;\n",
       "    }\n",
       "\n",
       "    .dataframe tbody tr th {\n",
       "        vertical-align: top;\n",
       "    }\n",
       "\n",
       "    .dataframe thead th {\n",
       "        text-align: right;\n",
       "    }\n",
       "</style>\n",
       "<table border=\"1\" class=\"dataframe\">\n",
       "  <thead>\n",
       "    <tr style=\"text-align: right;\">\n",
       "      <th></th>\n",
       "      <th>Vi(mV)</th>\n",
       "      <th>Vo(mV)</th>\n",
       "      <th>Vi2(mV)</th>\n",
       "      <th>Vo2(mV)</th>\n",
       "      <th>Vi3(mV)</th>\n",
       "      <th>Vo3(mV)</th>\n",
       "      <th>Vi4(mV)</th>\n",
       "      <th>Vo4(mV)</th>\n",
       "      <th>Vi5(mV)</th>\n",
       "      <th>Vo5(mV)</th>\n",
       "      <th>Vi6(mV)</th>\n",
       "      <th>Vo6(mV)</th>\n",
       "    </tr>\n",
       "  </thead>\n",
       "  <tbody>\n",
       "    <tr>\n",
       "      <th>0</th>\n",
       "      <td>0</td>\n",
       "      <td>0.0</td>\n",
       "      <td>0</td>\n",
       "      <td>0.0</td>\n",
       "      <td>0</td>\n",
       "      <td>0.0</td>\n",
       "      <td>0</td>\n",
       "      <td>0.0</td>\n",
       "      <td>0</td>\n",
       "      <td>0</td>\n",
       "      <td>0</td>\n",
       "      <td>0</td>\n",
       "    </tr>\n",
       "    <tr>\n",
       "      <th>1</th>\n",
       "      <td>10</td>\n",
       "      <td>-982.4</td>\n",
       "      <td>-10</td>\n",
       "      <td>984.6</td>\n",
       "      <td>10</td>\n",
       "      <td>-100.3</td>\n",
       "      <td>-10</td>\n",
       "      <td>100.5</td>\n",
       "      <td>10</td>\n",
       "      <td>1015</td>\n",
       "      <td>-10</td>\n",
       "      <td>-1012</td>\n",
       "    </tr>\n",
       "    <tr>\n",
       "      <th>2</th>\n",
       "      <td>20</td>\n",
       "      <td>-1966.0</td>\n",
       "      <td>-20</td>\n",
       "      <td>1968.0</td>\n",
       "      <td>20</td>\n",
       "      <td>-200.7</td>\n",
       "      <td>-20</td>\n",
       "      <td>200.9</td>\n",
       "      <td>20</td>\n",
       "      <td>2028</td>\n",
       "      <td>-20</td>\n",
       "      <td>-2026</td>\n",
       "    </tr>\n",
       "    <tr>\n",
       "      <th>3</th>\n",
       "      <td>30</td>\n",
       "      <td>-2949.0</td>\n",
       "      <td>-30</td>\n",
       "      <td>2952.0</td>\n",
       "      <td>30</td>\n",
       "      <td>-301.1</td>\n",
       "      <td>-30</td>\n",
       "      <td>301.3</td>\n",
       "      <td>30</td>\n",
       "      <td>3042</td>\n",
       "      <td>-30</td>\n",
       "      <td>-3040</td>\n",
       "    </tr>\n",
       "    <tr>\n",
       "      <th>4</th>\n",
       "      <td>40</td>\n",
       "      <td>-3933.0</td>\n",
       "      <td>-40</td>\n",
       "      <td>3935.0</td>\n",
       "      <td>40</td>\n",
       "      <td>-401.5</td>\n",
       "      <td>-40</td>\n",
       "      <td>401.7</td>\n",
       "      <td>40</td>\n",
       "      <td>4055</td>\n",
       "      <td>-40</td>\n",
       "      <td>-4053</td>\n",
       "    </tr>\n",
       "    <tr>\n",
       "      <th>5</th>\n",
       "      <td>50</td>\n",
       "      <td>-4916.0</td>\n",
       "      <td>-50</td>\n",
       "      <td>4919.0</td>\n",
       "      <td>50</td>\n",
       "      <td>-501.9</td>\n",
       "      <td>-50</td>\n",
       "      <td>502.1</td>\n",
       "      <td>50</td>\n",
       "      <td>5069</td>\n",
       "      <td>-50</td>\n",
       "      <td>-5067</td>\n",
       "    </tr>\n",
       "    <tr>\n",
       "      <th>6</th>\n",
       "      <td>60</td>\n",
       "      <td>-5900.0</td>\n",
       "      <td>-60</td>\n",
       "      <td>5902.0</td>\n",
       "      <td>60</td>\n",
       "      <td>-602.3</td>\n",
       "      <td>-60</td>\n",
       "      <td>602.5</td>\n",
       "      <td>60</td>\n",
       "      <td>6082</td>\n",
       "      <td>-60</td>\n",
       "      <td>-6080</td>\n",
       "    </tr>\n",
       "    <tr>\n",
       "      <th>7</th>\n",
       "      <td>70</td>\n",
       "      <td>-6883.0</td>\n",
       "      <td>-70</td>\n",
       "      <td>6886.0</td>\n",
       "      <td>70</td>\n",
       "      <td>-702.7</td>\n",
       "      <td>-70</td>\n",
       "      <td>702.9</td>\n",
       "      <td>70</td>\n",
       "      <td>7096</td>\n",
       "      <td>-70</td>\n",
       "      <td>-7094</td>\n",
       "    </tr>\n",
       "    <tr>\n",
       "      <th>8</th>\n",
       "      <td>80</td>\n",
       "      <td>-7867.0</td>\n",
       "      <td>-80</td>\n",
       "      <td>7869.0</td>\n",
       "      <td>80</td>\n",
       "      <td>-803.1</td>\n",
       "      <td>-80</td>\n",
       "      <td>803.3</td>\n",
       "      <td>80</td>\n",
       "      <td>8109</td>\n",
       "      <td>-80</td>\n",
       "      <td>-8107</td>\n",
       "    </tr>\n",
       "    <tr>\n",
       "      <th>9</th>\n",
       "      <td>90</td>\n",
       "      <td>-8850.0</td>\n",
       "      <td>-90</td>\n",
       "      <td>8853.0</td>\n",
       "      <td>90</td>\n",
       "      <td>-903.4</td>\n",
       "      <td>-90</td>\n",
       "      <td>903.7</td>\n",
       "      <td>90</td>\n",
       "      <td>9123</td>\n",
       "      <td>-90</td>\n",
       "      <td>-9121</td>\n",
       "    </tr>\n",
       "    <tr>\n",
       "      <th>10</th>\n",
       "      <td>100</td>\n",
       "      <td>-9834.0</td>\n",
       "      <td>-100</td>\n",
       "      <td>9836.0</td>\n",
       "      <td>100</td>\n",
       "      <td>-1004.0</td>\n",
       "      <td>-100</td>\n",
       "      <td>1004.0</td>\n",
       "      <td>100</td>\n",
       "      <td>10140</td>\n",
       "      <td>-100</td>\n",
       "      <td>-10130</td>\n",
       "    </tr>\n",
       "  </tbody>\n",
       "</table>\n",
       "</div>"
      ],
      "text/plain": [
       "    Vi(mV)  Vo(mV)  Vi2(mV)  Vo2(mV)  Vi3(mV)  Vo3(mV)  Vi4(mV)  Vo4(mV)  \\\n",
       "0        0     0.0        0      0.0        0      0.0        0      0.0   \n",
       "1       10  -982.4      -10    984.6       10   -100.3      -10    100.5   \n",
       "2       20 -1966.0      -20   1968.0       20   -200.7      -20    200.9   \n",
       "3       30 -2949.0      -30   2952.0       30   -301.1      -30    301.3   \n",
       "4       40 -3933.0      -40   3935.0       40   -401.5      -40    401.7   \n",
       "5       50 -4916.0      -50   4919.0       50   -501.9      -50    502.1   \n",
       "6       60 -5900.0      -60   5902.0       60   -602.3      -60    602.5   \n",
       "7       70 -6883.0      -70   6886.0       70   -702.7      -70    702.9   \n",
       "8       80 -7867.0      -80   7869.0       80   -803.1      -80    803.3   \n",
       "9       90 -8850.0      -90   8853.0       90   -903.4      -90    903.7   \n",
       "10     100 -9834.0     -100   9836.0      100  -1004.0     -100   1004.0   \n",
       "\n",
       "    Vi5(mV)  Vo5(mV)  Vi6(mV)  Vo6(mV)  \n",
       "0         0        0        0        0  \n",
       "1        10     1015      -10    -1012  \n",
       "2        20     2028      -20    -2026  \n",
       "3        30     3042      -30    -3040  \n",
       "4        40     4055      -40    -4053  \n",
       "5        50     5069      -50    -5067  \n",
       "6        60     6082      -60    -6080  \n",
       "7        70     7096      -70    -7094  \n",
       "8        80     8109      -80    -8107  \n",
       "9        90     9123      -90    -9121  \n",
       "10      100    10140     -100   -10130  "
      ]
     },
     "execution_count": 3,
     "metadata": {},
     "output_type": "execute_result"
    }
   ],
   "source": [
    "data = pd.read_excel(\"Datos_Vinput_Voutput.xlsx\")\n",
    "data"
   ]
  },
  {
   "cell_type": "code",
   "execution_count": 4,
   "id": "d9e3f70c",
   "metadata": {},
   "outputs": [
    {
     "data": {
      "text/plain": [
       "Vi(mV)       550.0\n",
       "Vo(mV)    -54080.4\n",
       "Vi2(mV)     -550.0\n",
       "Vo2(mV)    54104.6\n",
       "Vi3(mV)      550.0\n",
       "Vo3(mV)    -5521.0\n",
       "Vi4(mV)     -550.0\n",
       "Vo4(mV)     5522.9\n",
       "Vi5(mV)      550.0\n",
       "Vo5(mV)    55759.0\n",
       "Vi6(mV)     -550.0\n",
       "Vo6(mV)   -55730.0\n",
       "dtype: float64"
      ]
     },
     "execution_count": 4,
     "metadata": {},
     "output_type": "execute_result"
    }
   ],
   "source": [
    "data.sum()"
   ]
  },
  {
   "cell_type": "code",
   "execution_count": 4,
   "id": "60887ed1",
   "metadata": {},
   "outputs": [
    {
     "data": {
      "text/plain": [
       "Vi(mV)       550.0\n",
       "Vo(mV)    -54080.4\n",
       "Vi2(mV)     -550.0\n",
       "dtype: float64"
      ]
     },
     "execution_count": 4,
     "metadata": {},
     "output_type": "execute_result"
    }
   ],
   "source": [
    "data.iloc[:,:3].sum()"
   ]
  },
  {
   "cell_type": "code",
   "execution_count": 5,
   "id": "d65d34dc",
   "metadata": {},
   "outputs": [
    {
     "data": {
      "text/html": [
       "<div>\n",
       "<style scoped>\n",
       "    .dataframe tbody tr th:only-of-type {\n",
       "        vertical-align: middle;\n",
       "    }\n",
       "\n",
       "    .dataframe tbody tr th {\n",
       "        vertical-align: top;\n",
       "    }\n",
       "\n",
       "    .dataframe thead th {\n",
       "        text-align: right;\n",
       "    }\n",
       "</style>\n",
       "<table border=\"1\" class=\"dataframe\">\n",
       "  <thead>\n",
       "    <tr style=\"text-align: right;\">\n",
       "      <th></th>\n",
       "      <th>Vi(mV)</th>\n",
       "      <th>Vo(mV)</th>\n",
       "      <th>Vi2(mV)</th>\n",
       "      <th>Vo2(mV)</th>\n",
       "      <th>Vi3(mV)</th>\n",
       "      <th>Vo3(mV)</th>\n",
       "      <th>Vi4(mV)</th>\n",
       "      <th>Vo4(mV)</th>\n",
       "      <th>Vi5(mV)</th>\n",
       "      <th>Vo5(mV)</th>\n",
       "      <th>Vi6(mV)</th>\n",
       "      <th>Vo6(mV)</th>\n",
       "      <th>suma_de_fila</th>\n",
       "    </tr>\n",
       "  </thead>\n",
       "  <tbody>\n",
       "    <tr>\n",
       "      <th>0</th>\n",
       "      <td>0</td>\n",
       "      <td>0.0</td>\n",
       "      <td>0</td>\n",
       "      <td>0.0</td>\n",
       "      <td>0</td>\n",
       "      <td>0.0</td>\n",
       "      <td>0</td>\n",
       "      <td>0.0</td>\n",
       "      <td>0</td>\n",
       "      <td>0</td>\n",
       "      <td>0</td>\n",
       "      <td>0</td>\n",
       "      <td>0.0</td>\n",
       "    </tr>\n",
       "    <tr>\n",
       "      <th>1</th>\n",
       "      <td>10</td>\n",
       "      <td>-982.4</td>\n",
       "      <td>-10</td>\n",
       "      <td>984.6</td>\n",
       "      <td>10</td>\n",
       "      <td>-100.3</td>\n",
       "      <td>-10</td>\n",
       "      <td>100.5</td>\n",
       "      <td>10</td>\n",
       "      <td>1015</td>\n",
       "      <td>-10</td>\n",
       "      <td>-1012</td>\n",
       "      <td>5.4</td>\n",
       "    </tr>\n",
       "    <tr>\n",
       "      <th>2</th>\n",
       "      <td>20</td>\n",
       "      <td>-1966.0</td>\n",
       "      <td>-20</td>\n",
       "      <td>1968.0</td>\n",
       "      <td>20</td>\n",
       "      <td>-200.7</td>\n",
       "      <td>-20</td>\n",
       "      <td>200.9</td>\n",
       "      <td>20</td>\n",
       "      <td>2028</td>\n",
       "      <td>-20</td>\n",
       "      <td>-2026</td>\n",
       "      <td>4.2</td>\n",
       "    </tr>\n",
       "    <tr>\n",
       "      <th>3</th>\n",
       "      <td>30</td>\n",
       "      <td>-2949.0</td>\n",
       "      <td>-30</td>\n",
       "      <td>2952.0</td>\n",
       "      <td>30</td>\n",
       "      <td>-301.1</td>\n",
       "      <td>-30</td>\n",
       "      <td>301.3</td>\n",
       "      <td>30</td>\n",
       "      <td>3042</td>\n",
       "      <td>-30</td>\n",
       "      <td>-3040</td>\n",
       "      <td>5.2</td>\n",
       "    </tr>\n",
       "    <tr>\n",
       "      <th>4</th>\n",
       "      <td>40</td>\n",
       "      <td>-3933.0</td>\n",
       "      <td>-40</td>\n",
       "      <td>3935.0</td>\n",
       "      <td>40</td>\n",
       "      <td>-401.5</td>\n",
       "      <td>-40</td>\n",
       "      <td>401.7</td>\n",
       "      <td>40</td>\n",
       "      <td>4055</td>\n",
       "      <td>-40</td>\n",
       "      <td>-4053</td>\n",
       "      <td>4.2</td>\n",
       "    </tr>\n",
       "    <tr>\n",
       "      <th>5</th>\n",
       "      <td>50</td>\n",
       "      <td>-4916.0</td>\n",
       "      <td>-50</td>\n",
       "      <td>4919.0</td>\n",
       "      <td>50</td>\n",
       "      <td>-501.9</td>\n",
       "      <td>-50</td>\n",
       "      <td>502.1</td>\n",
       "      <td>50</td>\n",
       "      <td>5069</td>\n",
       "      <td>-50</td>\n",
       "      <td>-5067</td>\n",
       "      <td>5.2</td>\n",
       "    </tr>\n",
       "    <tr>\n",
       "      <th>6</th>\n",
       "      <td>60</td>\n",
       "      <td>-5900.0</td>\n",
       "      <td>-60</td>\n",
       "      <td>5902.0</td>\n",
       "      <td>60</td>\n",
       "      <td>-602.3</td>\n",
       "      <td>-60</td>\n",
       "      <td>602.5</td>\n",
       "      <td>60</td>\n",
       "      <td>6082</td>\n",
       "      <td>-60</td>\n",
       "      <td>-6080</td>\n",
       "      <td>4.2</td>\n",
       "    </tr>\n",
       "    <tr>\n",
       "      <th>7</th>\n",
       "      <td>70</td>\n",
       "      <td>-6883.0</td>\n",
       "      <td>-70</td>\n",
       "      <td>6886.0</td>\n",
       "      <td>70</td>\n",
       "      <td>-702.7</td>\n",
       "      <td>-70</td>\n",
       "      <td>702.9</td>\n",
       "      <td>70</td>\n",
       "      <td>7096</td>\n",
       "      <td>-70</td>\n",
       "      <td>-7094</td>\n",
       "      <td>5.2</td>\n",
       "    </tr>\n",
       "    <tr>\n",
       "      <th>8</th>\n",
       "      <td>80</td>\n",
       "      <td>-7867.0</td>\n",
       "      <td>-80</td>\n",
       "      <td>7869.0</td>\n",
       "      <td>80</td>\n",
       "      <td>-803.1</td>\n",
       "      <td>-80</td>\n",
       "      <td>803.3</td>\n",
       "      <td>80</td>\n",
       "      <td>8109</td>\n",
       "      <td>-80</td>\n",
       "      <td>-8107</td>\n",
       "      <td>4.2</td>\n",
       "    </tr>\n",
       "    <tr>\n",
       "      <th>9</th>\n",
       "      <td>90</td>\n",
       "      <td>-8850.0</td>\n",
       "      <td>-90</td>\n",
       "      <td>8853.0</td>\n",
       "      <td>90</td>\n",
       "      <td>-903.4</td>\n",
       "      <td>-90</td>\n",
       "      <td>903.7</td>\n",
       "      <td>90</td>\n",
       "      <td>9123</td>\n",
       "      <td>-90</td>\n",
       "      <td>-9121</td>\n",
       "      <td>5.3</td>\n",
       "    </tr>\n",
       "    <tr>\n",
       "      <th>10</th>\n",
       "      <td>100</td>\n",
       "      <td>-9834.0</td>\n",
       "      <td>-100</td>\n",
       "      <td>9836.0</td>\n",
       "      <td>100</td>\n",
       "      <td>-1004.0</td>\n",
       "      <td>-100</td>\n",
       "      <td>1004.0</td>\n",
       "      <td>100</td>\n",
       "      <td>10140</td>\n",
       "      <td>-100</td>\n",
       "      <td>-10130</td>\n",
       "      <td>12.0</td>\n",
       "    </tr>\n",
       "  </tbody>\n",
       "</table>\n",
       "</div>"
      ],
      "text/plain": [
       "    Vi(mV)  Vo(mV)  Vi2(mV)  Vo2(mV)  Vi3(mV)  Vo3(mV)  Vi4(mV)  Vo4(mV)  \\\n",
       "0        0     0.0        0      0.0        0      0.0        0      0.0   \n",
       "1       10  -982.4      -10    984.6       10   -100.3      -10    100.5   \n",
       "2       20 -1966.0      -20   1968.0       20   -200.7      -20    200.9   \n",
       "3       30 -2949.0      -30   2952.0       30   -301.1      -30    301.3   \n",
       "4       40 -3933.0      -40   3935.0       40   -401.5      -40    401.7   \n",
       "5       50 -4916.0      -50   4919.0       50   -501.9      -50    502.1   \n",
       "6       60 -5900.0      -60   5902.0       60   -602.3      -60    602.5   \n",
       "7       70 -6883.0      -70   6886.0       70   -702.7      -70    702.9   \n",
       "8       80 -7867.0      -80   7869.0       80   -803.1      -80    803.3   \n",
       "9       90 -8850.0      -90   8853.0       90   -903.4      -90    903.7   \n",
       "10     100 -9834.0     -100   9836.0      100  -1004.0     -100   1004.0   \n",
       "\n",
       "    Vi5(mV)  Vo5(mV)  Vi6(mV)  Vo6(mV)  suma_de_fila  \n",
       "0         0        0        0        0           0.0  \n",
       "1        10     1015      -10    -1012           5.4  \n",
       "2        20     2028      -20    -2026           4.2  \n",
       "3        30     3042      -30    -3040           5.2  \n",
       "4        40     4055      -40    -4053           4.2  \n",
       "5        50     5069      -50    -5067           5.2  \n",
       "6        60     6082      -60    -6080           4.2  \n",
       "7        70     7096      -70    -7094           5.2  \n",
       "8        80     8109      -80    -8107           4.2  \n",
       "9        90     9123      -90    -9121           5.3  \n",
       "10      100    10140     -100   -10130          12.0  "
      ]
     },
     "execution_count": 5,
     "metadata": {},
     "output_type": "execute_result"
    }
   ],
   "source": [
    "data[\"suma_de_fila\"] = data.sum(axis=1)\n",
    "data"
   ]
  },
  {
   "cell_type": "code",
   "execution_count": 6,
   "id": "465ee924",
   "metadata": {},
   "outputs": [
    {
     "name": "stdout",
     "output_type": "stream",
     "text": [
      "El promedio es:  5069.0\n"
     ]
    }
   ],
   "source": [
    "promedio = data[\"Vo5(mV)\"].mean()\n",
    "print(\"El promedio es: \", promedio)"
   ]
  },
  {
   "cell_type": "code",
   "execution_count": 7,
   "id": "87318b99",
   "metadata": {},
   "outputs": [
    {
     "data": {
      "text/plain": [
       "0        0\n",
       "1      100\n",
       "2      200\n",
       "3      300\n",
       "4      400\n",
       "5      500\n",
       "6      600\n",
       "7      700\n",
       "8      800\n",
       "9      900\n",
       "10    1000\n",
       "Name: Vi(mV), dtype: int64"
      ]
     },
     "execution_count": 7,
     "metadata": {},
     "output_type": "execute_result"
    }
   ],
   "source": [
    "por_10 = data[\"Vi(mV)\"]*10\n",
    "por_10"
   ]
  },
  {
   "cell_type": "code",
   "execution_count": 8,
   "id": "eb7a3231",
   "metadata": {},
   "outputs": [
    {
     "data": {
      "text/plain": [
       "0         0\n",
       "1      -100\n",
       "2      -400\n",
       "3      -900\n",
       "4     -1600\n",
       "5     -2500\n",
       "6     -3600\n",
       "7     -4900\n",
       "8     -6400\n",
       "9     -8100\n",
       "10   -10000\n",
       "dtype: int64"
      ]
     },
     "execution_count": 8,
     "metadata": {},
     "output_type": "execute_result"
    }
   ],
   "source": [
    "multiplicacionn_de_2_columnas = data[\"Vi(mV)\"]*data[\"Vi2(mV)\"]\n",
    "multiplicacionn_de_2_columnas"
   ]
  },
  {
   "cell_type": "markdown",
   "id": "d8e6bf8b",
   "metadata": {},
   "source": [
    "<center> <h1>EJEMPLO 2</h1> </center> "
   ]
  },
  {
   "cell_type": "markdown",
   "id": "9bdadc74",
   "metadata": {},
   "source": [
    "En excel para graficar 2 columnas se seleccionan ambas columnas y se selecciona la opcion insertar grafica.\n",
    "\n",
    "En python veremos como hacer esta grafica:"
   ]
  },
  {
   "cell_type": "code",
   "execution_count": 5,
   "id": "a8a2fb15",
   "metadata": {},
   "outputs": [],
   "source": [
    "# con el mismo excel:\n",
    "# Pares de columnas relacionadas\n",
    "VolEntr_VolSal = [('Vi(mV)', 'Vo(mV)'), ('Vi2(mV)', 'Vo2(mV)'), ('Vi3(mV)', 'Vo3(mV)'),\n",
    "                  ('Vi4(mV)', 'Vo4(mV)'), ('Vi5(mV)', 'Vo5(mV)'), ('Vi6(mV)', 'Vo6(mV)')]"
   ]
  },
  {
   "cell_type": "code",
   "execution_count": 7,
   "id": "c7d24625",
   "metadata": {},
   "outputs": [
    {
     "data": {
      "image/png": "[encoded data removed]",
      "text/plain": [
       "<Figure size 640x480 with 1 Axes>"
      ]
     },
     "metadata": {},
     "output_type": "display_data"
    },
    {
     "data": {
      "image/png": "[encoded data removed]",
      "text/plain": [
       "<Figure size 640x480 with 1 Axes>"
      ]
     },
     "metadata": {},
     "output_type": "display_data"
    },
    {
     "data": {
      "image/png": "[encoded data removed]",
      "text/plain": [
       "<Figure size 640x480 with 1 Axes>"
      ]
     },
     "metadata": {},
     "output_type": "display_data"
    },
    {
     "data": {
      "image/png": "[encoded data removed]",
      "text/plain": [
       "<Figure size 640x480 with 1 Axes>"
      ]
     },
     "metadata": {},
     "output_type": "display_data"
    },
    {
     "data": {
      "image/png": "[encoded data removed]",
      "text/plain": [
       "<Figure size 640x480 with 1 Axes>"
      ]
     },
     "metadata": {},
     "output_type": "display_data"
    },
    {
     "data": {
      "image/png": "[encoded data removed]",
      "text/plain": [
       "<Figure size 640x480 with 1 Axes>"
      ]
     },
     "metadata": {},
     "output_type": "display_data"
    }
   ],
   "source": [
    "# Crear las gráficas para cada par de columnas\n",
    "for par in VolEntr_VolSal:\n",
    "    columna1, columna2 = par\n",
    "\n",
    "    # Obtener los datos de las columnas\n",
    "    datos_columna1 = data[columna1]\n",
    "    datos_columna2 = data[columna2]\n",
    "\n",
    "    # Crear la figura y los ejes\n",
    "    fig, ax = plt.subplots()\n",
    "\n",
    "    # Graficar los datos\n",
    "    ax.plot(datos_columna1, datos_columna2, marker='o', linestyle='-', color='c')\n",
    "\n",
    "    # Personalizar el gráfico\n",
    "    ax.set_xlabel(columna1)\n",
    "    ax.set_ylabel(columna2)\n",
    "    ax.set_title(f'Gráfica de relación entre {columna1} y {columna2}')\n",
    "\n",
    "    # Mostrar la gráfica\n",
    "    plt.show()\n"
   ]
  },
  {
   "cell_type": "markdown",
   "id": "f8401f0d",
   "metadata": {},
   "source": [
    "<center> <h1>EJEMPLO 3</h1> </center> "
   ]
  },
  {
   "cell_type": "markdown",
   "id": "2980e660",
   "metadata": {},
   "source": [
    "Con datos de un excel hallar la varianza de una columna A con VAR(A:A), y la desviacion estandar con DESVEST(B:B).\n",
    "\n",
    "Ahora veremos como hacer esto con Python:"
   ]
  },
  {
   "cell_type": "code",
   "execution_count": 19,
   "id": "c336cbd5",
   "metadata": {
    "scrolled": true
   },
   "outputs": [
    {
     "name": "stdout",
     "output_type": "stream",
     "text": [
      "Varianza de cada columna:\n",
      "Vi(mV)     1.100000e+03\n",
      "Vo(mV)     1.063870e+07\n",
      "Vi2(mV)    1.100000e+03\n",
      "Vo2(mV)    1.064129e+07\n",
      "Vi3(mV)    1.100000e+03\n",
      "Vo3(mV)    1.108737e+05\n",
      "Vi4(mV)    1.100000e+03\n",
      "Vo4(mV)    1.108818e+05\n",
      "Vi5(mV)    1.100000e+03\n",
      "Vo5(mV)    1.130407e+07\n",
      "Vi6(mV)    1.100000e+03\n",
      "Vo6(mV)    1.129475e+07\n",
      "dtype: float64\n",
      "\n",
      "Desviación estándar de cada columna:\n",
      "Vi(mV)       33.166248\n",
      "Vo(mV)     3261.701507\n",
      "Vi2(mV)      33.166248\n",
      "Vo2(mV)    3262.099502\n",
      "Vi3(mV)      33.166248\n",
      "Vo3(mV)     332.977073\n",
      "Vi4(mV)      33.166248\n",
      "Vo4(mV)     332.989131\n",
      "Vi5(mV)      33.166248\n",
      "Vo5(mV)    3362.153149\n",
      "Vi6(mV)      33.166248\n",
      "Vo6(mV)    3360.766260\n",
      "dtype: float64\n"
     ]
    }
   ],
   "source": [
    "# Calcula la varianza de cada columna\n",
    "var = data.var()\n",
    "\n",
    "# Calcula la desviación estándar de cada columna\n",
    "destand = data.std()\n",
    "\n",
    "# Imprime los resultados\n",
    "print(\"Varianza de cada columna:\")\n",
    "print(var)\n",
    "print(\"\\nDesviación estándar de cada columna:\")\n",
    "print(destand)\n"
   ]
  },
  {
   "cell_type": "markdown",
   "id": "bd7cfe93",
   "metadata": {},
   "source": [
    "<center> <h1>EJEMPLO 4</h1> </center> "
   ]
  },
  {
   "cell_type": "markdown",
   "id": "dd3c21bc",
   "metadata": {},
   "source": [
    "Para hallar el coeficiente de correlacion en excel se usa: COEF.DE.CORREL . Ahora para hacerlo con python usamos el siguiente codigo: "
   ]
  },
  {
   "cell_type": "code",
   "execution_count": 27,
   "id": "5df59c32",
   "metadata": {},
   "outputs": [
    {
     "data": {
      "image/png": "[encoded data removed]",
      "text/plain": [
       "<Figure size 500x500 with 1 Axes>"
      ]
     },
     "metadata": {},
     "output_type": "display_data"
    },
    {
     "name": "stdout",
     "output_type": "stream",
     "text": [
      "[[ 1.         -0.65517241]\n",
      " [-0.65517241  1.        ]]\n"
     ]
    }
   ],
   "source": [
    "x = data[\"Vi(mV)\"]\n",
    "y = data[\"Vi2(mV)\"]\n",
    "\n",
    "plt.figure(figsize=(5, 5))\n",
    "plt.scatter(x, y)\n",
    "plt.grid()\n",
    "plt.show()\n",
    "\n",
    "coef = np.corrcoef(x, y)\n",
    "print(coef)"
   ]
  },
  {
   "cell_type": "markdown",
   "id": "a7dd5ba5",
   "metadata": {},
   "source": [
    "<center> <h1>EJEMPLO 5</h1> </center> "
   ]
  },
  {
   "cell_type": "code",
   "execution_count": 5,
   "id": "c35e2d45",
   "metadata": {},
   "outputs": [
    {
     "name": "stdout",
     "output_type": "stream",
     "text": [
      "ordenados en orden ascendente:  [0       0\n",
      "1      10\n",
      "2      20\n",
      "3      30\n",
      "4      40\n",
      "5      50\n",
      "6      60\n",
      "7      70\n",
      "8      80\n",
      "9      90\n",
      "10    100\n",
      "Name: Vi(mV), dtype: int64]\n"
     ]
    }
   ],
   "source": [
    "#en excel se haria usando la funcion de clasificacion\n",
    "#en python seria de la siguiente manera\n",
    "\n",
    "numeros = data[\"Vi(mV)\"] \n",
    "numeros_ordenados = sorted([numeros])\n",
    "\n",
    "print(\"ordenados en orden ascendente: \", numeros_ordenados)"
   ]
  },
  {
   "cell_type": "code",
   "execution_count": null,
   "id": "96fb4fc0",
   "metadata": {},
   "outputs": [],
   "source": []
  },
  {
   "cell_type": "markdown",
   "id": "1b57036a",
   "metadata": {},
   "source": [
    "<center> <h1>EJEMPLO 6</h1> </center> "
   ]
  },
  {
   "cell_type": "markdown",
   "id": "a68fb196",
   "metadata": {},
   "source": [
    "Para hallar la MODA en excel, es decir, el valor más frecuente, en un conjunto de datos se utiliza MODA(A:A) para obtener la moda de los datos en la columna A.\n",
    "\n",
    "Veremos como hacerlo con Python:"
   ]
  },
  {
   "cell_type": "code",
   "execution_count": 22,
   "id": "64dd2e92",
   "metadata": {},
   "outputs": [
    {
     "name": "stderr",
     "output_type": "stream",
     "text": [
      "/tmp/ipykernel_6671/1005373764.py:6: FutureWarning: The frame.append method is deprecated and will be removed from pandas in a future version. Use pandas.concat instead.\n",
      "  data = data.append(moda_total_columnas, ignore_index=True)\n"
     ]
    }
   ],
   "source": [
    "# Calcular la moda por columna\n",
    "moda_columnas = data.mode(axis=0)\n",
    "\n",
    "# Agregar una nueva fila debajo de la columna \"Vi(mV)\" con las modas de todas las columnas\n",
    "moda_total_columnas = moda_columnas.iloc[0]\n",
    "data = data.append(moda_total_columnas, ignore_index=True)"
   ]
  },
  {
   "cell_type": "code",
   "execution_count": 23,
   "id": "cfdf5b12",
   "metadata": {},
   "outputs": [],
   "source": [
    "# Calcular la moda por fila\n",
    "moda_filas = data.mode(axis=1)\n",
    "\n",
    "# Agregar una nueva columna a la derecha de la última columna con las modas de cada fila\n",
    "moda_total_filas = moda_filas.iloc[:, 0]\n",
    "data['Moda Fila'] = moda_total_filas"
   ]
  },
  {
   "cell_type": "code",
   "execution_count": 24,
   "id": "b0e63a33",
   "metadata": {},
   "outputs": [],
   "source": [
    "# Guardar el DataFrame con las nuevas filas y columnas en un nuevo archivo de Excel\n",
    "data.to_excel('Datos_Vinput_Voutput_moda.xlsx', index=False)"
   ]
  },
  {
   "cell_type": "code",
   "execution_count": 25,
   "id": "dec806be",
   "metadata": {},
   "outputs": [
    {
     "data": {
      "text/html": [
       "<div>\n",
       "<style scoped>\n",
       "    .dataframe tbody tr th:only-of-type {\n",
       "        vertical-align: middle;\n",
       "    }\n",
       "\n",
       "    .dataframe tbody tr th {\n",
       "        vertical-align: top;\n",
       "    }\n",
       "\n",
       "    .dataframe thead th {\n",
       "        text-align: right;\n",
       "    }\n",
       "</style>\n",
       "<table border=\"1\" class=\"dataframe\">\n",
       "  <thead>\n",
       "    <tr style=\"text-align: right;\">\n",
       "      <th></th>\n",
       "      <th>Vi(mV)</th>\n",
       "      <th>Vo(mV)</th>\n",
       "      <th>Vi2(mV)</th>\n",
       "      <th>Vo2(mV)</th>\n",
       "      <th>Vi3(mV)</th>\n",
       "      <th>Vo3(mV)</th>\n",
       "      <th>Vi4(mV)</th>\n",
       "      <th>Vo4(mV)</th>\n",
       "      <th>Vi5(mV)</th>\n",
       "      <th>Vo5(mV)</th>\n",
       "      <th>Vi6(mV)</th>\n",
       "      <th>Vo6(mV)</th>\n",
       "      <th>Moda Fila</th>\n",
       "    </tr>\n",
       "  </thead>\n",
       "  <tbody>\n",
       "    <tr>\n",
       "      <th>0</th>\n",
       "      <td>0.0</td>\n",
       "      <td>0.0</td>\n",
       "      <td>0.0</td>\n",
       "      <td>0.0</td>\n",
       "      <td>0.0</td>\n",
       "      <td>0.0</td>\n",
       "      <td>0.0</td>\n",
       "      <td>0.0</td>\n",
       "      <td>0.0</td>\n",
       "      <td>0.0</td>\n",
       "      <td>0.0</td>\n",
       "      <td>0.0</td>\n",
       "      <td>0.0</td>\n",
       "    </tr>\n",
       "    <tr>\n",
       "      <th>1</th>\n",
       "      <td>10.0</td>\n",
       "      <td>-982.4</td>\n",
       "      <td>-10.0</td>\n",
       "      <td>984.6</td>\n",
       "      <td>10.0</td>\n",
       "      <td>-100.3</td>\n",
       "      <td>-10.0</td>\n",
       "      <td>100.5</td>\n",
       "      <td>10.0</td>\n",
       "      <td>1015.0</td>\n",
       "      <td>-10.0</td>\n",
       "      <td>-1012.0</td>\n",
       "      <td>-10.0</td>\n",
       "    </tr>\n",
       "    <tr>\n",
       "      <th>2</th>\n",
       "      <td>20.0</td>\n",
       "      <td>-1966.0</td>\n",
       "      <td>-20.0</td>\n",
       "      <td>1968.0</td>\n",
       "      <td>20.0</td>\n",
       "      <td>-200.7</td>\n",
       "      <td>-20.0</td>\n",
       "      <td>200.9</td>\n",
       "      <td>20.0</td>\n",
       "      <td>2028.0</td>\n",
       "      <td>-20.0</td>\n",
       "      <td>-2026.0</td>\n",
       "      <td>-20.0</td>\n",
       "    </tr>\n",
       "    <tr>\n",
       "      <th>3</th>\n",
       "      <td>30.0</td>\n",
       "      <td>-2949.0</td>\n",
       "      <td>-30.0</td>\n",
       "      <td>2952.0</td>\n",
       "      <td>30.0</td>\n",
       "      <td>-301.1</td>\n",
       "      <td>-30.0</td>\n",
       "      <td>301.3</td>\n",
       "      <td>30.0</td>\n",
       "      <td>3042.0</td>\n",
       "      <td>-30.0</td>\n",
       "      <td>-3040.0</td>\n",
       "      <td>-30.0</td>\n",
       "    </tr>\n",
       "    <tr>\n",
       "      <th>4</th>\n",
       "      <td>40.0</td>\n",
       "      <td>-3933.0</td>\n",
       "      <td>-40.0</td>\n",
       "      <td>3935.0</td>\n",
       "      <td>40.0</td>\n",
       "      <td>-401.5</td>\n",
       "      <td>-40.0</td>\n",
       "      <td>401.7</td>\n",
       "      <td>40.0</td>\n",
       "      <td>4055.0</td>\n",
       "      <td>-40.0</td>\n",
       "      <td>-4053.0</td>\n",
       "      <td>-40.0</td>\n",
       "    </tr>\n",
       "    <tr>\n",
       "      <th>5</th>\n",
       "      <td>50.0</td>\n",
       "      <td>-4916.0</td>\n",
       "      <td>-50.0</td>\n",
       "      <td>4919.0</td>\n",
       "      <td>50.0</td>\n",
       "      <td>-501.9</td>\n",
       "      <td>-50.0</td>\n",
       "      <td>502.1</td>\n",
       "      <td>50.0</td>\n",
       "      <td>5069.0</td>\n",
       "      <td>-50.0</td>\n",
       "      <td>-5067.0</td>\n",
       "      <td>-50.0</td>\n",
       "    </tr>\n",
       "    <tr>\n",
       "      <th>6</th>\n",
       "      <td>60.0</td>\n",
       "      <td>-5900.0</td>\n",
       "      <td>-60.0</td>\n",
       "      <td>5902.0</td>\n",
       "      <td>60.0</td>\n",
       "      <td>-602.3</td>\n",
       "      <td>-60.0</td>\n",
       "      <td>602.5</td>\n",
       "      <td>60.0</td>\n",
       "      <td>6082.0</td>\n",
       "      <td>-60.0</td>\n",
       "      <td>-6080.0</td>\n",
       "      <td>-60.0</td>\n",
       "    </tr>\n",
       "    <tr>\n",
       "      <th>7</th>\n",
       "      <td>70.0</td>\n",
       "      <td>-6883.0</td>\n",
       "      <td>-70.0</td>\n",
       "      <td>6886.0</td>\n",
       "      <td>70.0</td>\n",
       "      <td>-702.7</td>\n",
       "      <td>-70.0</td>\n",
       "      <td>702.9</td>\n",
       "      <td>70.0</td>\n",
       "      <td>7096.0</td>\n",
       "      <td>-70.0</td>\n",
       "      <td>-7094.0</td>\n",
       "      <td>-70.0</td>\n",
       "    </tr>\n",
       "    <tr>\n",
       "      <th>8</th>\n",
       "      <td>80.0</td>\n",
       "      <td>-7867.0</td>\n",
       "      <td>-80.0</td>\n",
       "      <td>7869.0</td>\n",
       "      <td>80.0</td>\n",
       "      <td>-803.1</td>\n",
       "      <td>-80.0</td>\n",
       "      <td>803.3</td>\n",
       "      <td>80.0</td>\n",
       "      <td>8109.0</td>\n",
       "      <td>-80.0</td>\n",
       "      <td>-8107.0</td>\n",
       "      <td>-80.0</td>\n",
       "    </tr>\n",
       "    <tr>\n",
       "      <th>9</th>\n",
       "      <td>90.0</td>\n",
       "      <td>-8850.0</td>\n",
       "      <td>-90.0</td>\n",
       "      <td>8853.0</td>\n",
       "      <td>90.0</td>\n",
       "      <td>-903.4</td>\n",
       "      <td>-90.0</td>\n",
       "      <td>903.7</td>\n",
       "      <td>90.0</td>\n",
       "      <td>9123.0</td>\n",
       "      <td>-90.0</td>\n",
       "      <td>-9121.0</td>\n",
       "      <td>-90.0</td>\n",
       "    </tr>\n",
       "    <tr>\n",
       "      <th>10</th>\n",
       "      <td>100.0</td>\n",
       "      <td>-9834.0</td>\n",
       "      <td>-100.0</td>\n",
       "      <td>9836.0</td>\n",
       "      <td>100.0</td>\n",
       "      <td>-1004.0</td>\n",
       "      <td>-100.0</td>\n",
       "      <td>1004.0</td>\n",
       "      <td>100.0</td>\n",
       "      <td>10140.0</td>\n",
       "      <td>-100.0</td>\n",
       "      <td>-10130.0</td>\n",
       "      <td>-100.0</td>\n",
       "    </tr>\n",
       "    <tr>\n",
       "      <th>11</th>\n",
       "      <td>0.0</td>\n",
       "      <td>-9834.0</td>\n",
       "      <td>-100.0</td>\n",
       "      <td>0.0</td>\n",
       "      <td>0.0</td>\n",
       "      <td>-1004.0</td>\n",
       "      <td>-100.0</td>\n",
       "      <td>0.0</td>\n",
       "      <td>0.0</td>\n",
       "      <td>0.0</td>\n",
       "      <td>-100.0</td>\n",
       "      <td>-10130.0</td>\n",
       "      <td>0.0</td>\n",
       "    </tr>\n",
       "  </tbody>\n",
       "</table>\n",
       "</div>"
      ],
      "text/plain": [
       "    Vi(mV)  Vo(mV)  Vi2(mV)  Vo2(mV)  Vi3(mV)  Vo3(mV)  Vi4(mV)  Vo4(mV)  \\\n",
       "0      0.0     0.0      0.0      0.0      0.0      0.0      0.0      0.0   \n",
       "1     10.0  -982.4    -10.0    984.6     10.0   -100.3    -10.0    100.5   \n",
       "2     20.0 -1966.0    -20.0   1968.0     20.0   -200.7    -20.0    200.9   \n",
       "3     30.0 -2949.0    -30.0   2952.0     30.0   -301.1    -30.0    301.3   \n",
       "4     40.0 -3933.0    -40.0   3935.0     40.0   -401.5    -40.0    401.7   \n",
       "5     50.0 -4916.0    -50.0   4919.0     50.0   -501.9    -50.0    502.1   \n",
       "6     60.0 -5900.0    -60.0   5902.0     60.0   -602.3    -60.0    602.5   \n",
       "7     70.0 -6883.0    -70.0   6886.0     70.0   -702.7    -70.0    702.9   \n",
       "8     80.0 -7867.0    -80.0   7869.0     80.0   -803.1    -80.0    803.3   \n",
       "9     90.0 -8850.0    -90.0   8853.0     90.0   -903.4    -90.0    903.7   \n",
       "10   100.0 -9834.0   -100.0   9836.0    100.0  -1004.0   -100.0   1004.0   \n",
       "11     0.0 -9834.0   -100.0      0.0      0.0  -1004.0   -100.0      0.0   \n",
       "\n",
       "    Vi5(mV)  Vo5(mV)  Vi6(mV)  Vo6(mV)  Moda Fila  \n",
       "0       0.0      0.0      0.0      0.0        0.0  \n",
       "1      10.0   1015.0    -10.0  -1012.0      -10.0  \n",
       "2      20.0   2028.0    -20.0  -2026.0      -20.0  \n",
       "3      30.0   3042.0    -30.0  -3040.0      -30.0  \n",
       "4      40.0   4055.0    -40.0  -4053.0      -40.0  \n",
       "5      50.0   5069.0    -50.0  -5067.0      -50.0  \n",
       "6      60.0   6082.0    -60.0  -6080.0      -60.0  \n",
       "7      70.0   7096.0    -70.0  -7094.0      -70.0  \n",
       "8      80.0   8109.0    -80.0  -8107.0      -80.0  \n",
       "9      90.0   9123.0    -90.0  -9121.0      -90.0  \n",
       "10    100.0  10140.0   -100.0 -10130.0     -100.0  \n",
       "11      0.0      0.0   -100.0 -10130.0        0.0  "
      ]
     },
     "execution_count": 25,
     "metadata": {},
     "output_type": "execute_result"
    }
   ],
   "source": [
    "data"
   ]
  },
  {
   "cell_type": "code",
   "execution_count": null,
   "id": "288d82e4",
   "metadata": {},
   "outputs": [],
   "source": []
  },
  {
   "cell_type": "markdown",
   "id": "10c0d2ac",
   "metadata": {},
   "source": [
    "![linea 1](https://user-images.githubusercontent.com/19308295/115926252-2b8a0c00-a448-11eb-9d9c-b43beaf0ff68.png)"
   ]
  },
  {
   "cell_type": "markdown",
   "id": "81a54909",
   "metadata": {},
   "source": [
    "## <font color=#33A5FF>****BIBLIOGRAFÍA****<tfont>"
   ]
  },
  {
   "cell_type": "markdown",
   "id": "ae989406",
   "metadata": {},
   "source": [
    "[1] Documentación oficial de `pandas`: https://pandas.pydata.org/docs/reference/api/pandas.DataFrame.html\n",
    "\n",
    "[2] Correlacion con `numpy`: https://k-dm.work/es/eval/regression/correlation_coefficient/\n",
    "\n",
    "[3] Varianza con `numpy`: https://how.okpedia.org/es/python/como-calcular-la-varianza-en-python\n",
    "\n"
   ]
  },
  {
   "cell_type": "markdown",
   "id": "ea6f960c",
   "metadata": {},
   "source": [
    "![linea 1](https://user-images.githubusercontent.com/19308295/115926252-2b8a0c00-a448-11eb-9d9c-b43beaf0ff68.png)"
   ]
  }
 ],
 "metadata": {
  "kernelspec": {
   "display_name": "Python 3 (ipykernel)",
   "language": "python",
   "name": "python3"
  },
  "language_info": {
   "codemirror_mode": {
    "name": "ipython",
    "version": 3
   },
   "file_extension": ".py",
   "mimetype": "text/x-python",
   "name": "python",
   "nbconvert_exporter": "python",
   "pygments_lexer": "ipython3",
   "version": "3.8.16"
  }
 },
 "nbformat": 4,
 "nbformat_minor": 5
}
